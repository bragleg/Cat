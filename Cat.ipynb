{
 "cells": [
  {
   "cell_type": "code",
   "execution_count": 119,
   "metadata": {},
   "outputs": [],
   "source": [
    "import random"
   ]
  },
  {
   "cell_type": "code",
   "execution_count": 113,
   "metadata": {},
   "outputs": [],
   "source": [
    "class Cat():\n",
    "    def __init__(self, weight, color):\n",
    "        self.weight = weight\n",
    "        self.color = color\n",
    "        self.happiness = 0\n",
    "    \n",
    "    def feed(self, food_amt):\n",
    "        self.weight += food_amt\n",
    "    \n",
    "    def pet(self, where='head'):\n",
    "        if where == head:\n",
    "            self.happiness += 1\n",
    "        elif where == belly:\n",
    "            self.happiness -= 10\n",
    "    \n",
    "    def play(self, toy=None):\n",
    "        if toy is None:\n",
    "            self.happiness += 1\n",
    "            \n",
    "        elif toy == 'bonk':\n",
    "            self.happiness -= 1\n",
    "            \n",
    "        elif toy in {'puppy', 'turkey'}:\n",
    "            self.happiness += 2\n",
    "            \n",
    "        else:\n",
    "            raise ValueError(f'Unknown toy: {toy}')\n",
    "    \n",
    "    def check_happiness(self):\n",
    "        if self.happiness > 0:\n",
    "            return 'Happy guy'\n",
    "        \n",
    "        elif self.happiness < 0:\n",
    "            return 'Grumpy guy'\n",
    "        \n",
    "        else:\n",
    "            return 'Normalstyle guy'\n",
    "    \n",
    "    def weigh(self):\n",
    "        return self.weight "
   ]
  },
  {
   "cell_type": "code",
   "execution_count": 117,
   "metadata": {},
   "outputs": [],
   "source": [
    "bobo = Cat(17, 'grey')\n",
    "# bobo.feed(1)\n",
    "# bobo.weigh()\n",
    "bobo.happiness = 0"
   ]
  },
  {
   "cell_type": "code",
   "execution_count": 1,
   "metadata": {},
   "outputs": [
    {
     "ename": "NameError",
     "evalue": "name 'bobo' is not defined",
     "output_type": "error",
     "traceback": [
      "\u001b[0;31m---------------------------------------------------------------------------\u001b[0m",
      "\u001b[0;31mNameError\u001b[0m                                 Traceback (most recent call last)",
      "\u001b[0;32m<ipython-input-1-13d398b87d59>\u001b[0m in \u001b[0;36m<module>\u001b[0;34m\u001b[0m\n\u001b[0;32m----> 1\u001b[0;31m \u001b[0mbobo\u001b[0m\u001b[0;34m.\u001b[0m\u001b[0mweight\u001b[0m\u001b[0;34m\u001b[0m\u001b[0;34m\u001b[0m\u001b[0m\n\u001b[0m",
      "\u001b[0;31mNameError\u001b[0m: name 'bobo' is not defined"
     ]
    }
   ],
   "source": [
    "bobo.weight "
   ]
  },
  {
   "cell_type": "code",
   "execution_count": 95,
   "metadata": {},
   "outputs": [],
   "source": [
    "bobo.pet()"
   ]
  },
  {
   "cell_type": "code",
   "execution_count": 96,
   "metadata": {},
   "outputs": [
    {
     "data": {
      "text/plain": [
       "'Happy guy'"
      ]
     },
     "execution_count": 96,
     "metadata": {},
     "output_type": "execute_result"
    }
   ],
   "source": [
    "bobo.check_happiness()"
   ]
  },
  {
   "cell_type": "code",
   "execution_count": 118,
   "metadata": {},
   "outputs": [
    {
     "data": {
      "text/plain": [
       "100002.0"
      ]
     },
     "execution_count": 118,
     "metadata": {},
     "output_type": "execute_result"
    }
   ],
   "source": [
    "bobo.play('turkey')\n",
    "bobo.happiness"
   ]
  },
  {
   "cell_type": "code",
   "execution_count": 131,
   "metadata": {},
   "outputs": [
    {
     "data": {
      "text/plain": [
       "0.5640656711089179"
      ]
     },
     "execution_count": 131,
     "metadata": {},
     "output_type": "execute_result"
    }
   ],
   "source": [
    "random.random()"
   ]
  }
 ],
 "metadata": {
  "kernelspec": {
   "display_name": "Python 3",
   "language": "python",
   "name": "python3"
  },
  "language_info": {
   "codemirror_mode": {
    "name": "ipython",
    "version": 3
   },
   "file_extension": ".py",
   "mimetype": "text/x-python",
   "name": "python",
   "nbconvert_exporter": "python",
   "pygments_lexer": "ipython3",
   "version": "3.8.5"
  }
 },
 "nbformat": 4,
 "nbformat_minor": 4
}
