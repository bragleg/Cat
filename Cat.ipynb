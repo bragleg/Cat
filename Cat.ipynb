{
 "cells": [
  {
   "cell_type": "code",
   "execution_count": 2,
   "metadata": {},
   "outputs": [],
   "source": [
    "import random"
   ]
  },
  {
   "cell_type": "code",
   "execution_count": 132,
   "metadata": {},
   "outputs": [],
   "source": [
    "class Cat():\n",
    "    def __init__(self, weight, color):\n",
    "        self.weight = weight\n",
    "        self.color = color\n",
    "        self.happiness = 0\n",
    "        self.hunger = 0\n",
    "    \n",
    "    def feed(self, food_amt):\n",
    "        self.weight += food_amt\n",
    "        self.hunger -= 1\n",
    "    \n",
    "    def pet(self, where='head'):\n",
    "        if where == 'head':\n",
    "            self.happiness += 1\n",
    "            \n",
    "        elif where == 'belly':\n",
    "            self.happiness -= 10\n",
    "    \n",
    "    def play(self, toy=None):\n",
    "        if toy is None:\n",
    "            self.happiness += 1\n",
    "            \n",
    "        elif toy == 'bonk':\n",
    "            self.happiness -= 1\n",
    "            \n",
    "        elif toy in {'puppy', 'turkey'}:\n",
    "            self.happiness += 2\n",
    "            \n",
    "        elif toy == 'box':\n",
    "            self.happiness += 1\n",
    "            print(r\"\"\"\n",
    "  ,-.       _,---._ __  / \\\n",
    " /  )    .-'       `./ /   \\\n",
    "(  (   ,'            `/    /|\n",
    " \\  `-\"             \\'\\   / |\n",
    "  `.              ,  \\ \\ /  |\n",
    "   /`.          ,'-`----Y   |\n",
    "  (            ;        |   '\n",
    "  |  ,-.    ,-'         |  /\n",
    "  |  | (   |        box | /\n",
    "  )  |  \\  `.___________|/\n",
    "  `--'   `--'\n",
    "  \"\"\" )\n",
    "            \n",
    "        else:\n",
    "            raise ValueError(f'Unknown toy: {toy}')\n",
    "    \n",
    "    def check_happiness(self):\n",
    "        if self.happiness > 0:\n",
    "            print(r\"\"\"\n",
    " /\\_/\\\n",
    "( ^.^ )\n",
    " > ' <\n",
    " \"\"\")\n",
    "            print('Happy guy')\n",
    "            #return 'Happy guy'\n",
    "        \n",
    " \n",
    "                    \n",
    "        elif self.happiness < 0:\n",
    "            print(r\"\"\"\n",
    " /\\_/\\\n",
    "( -.- )\n",
    " > ^ <\n",
    " \"\"\")\n",
    "            print('Grumpy guy')\n",
    "            #return 'Grumpy guy'\n",
    "        \n",
    "        else:\n",
    "            print(r\"\"\"\n",
    " /\\_/\\\n",
    "( o.o )\n",
    " > ^ <\n",
    "\"\"\")    \n",
    "            print('Normalstyle guy')\n",
    "            #return 'Normalstyle guy'\n",
    "        def weigh(self):\n",
    "            return self.weight "
   ]
  },
  {
   "cell_type": "code",
   "execution_count": 133,
   "metadata": {},
   "outputs": [],
   "source": [
    "bobo = Cat(17, 'grey')\n",
    "# bobo.feed(1)\n",
    "# bobo.weigh()\n",
    "bobo.happiness = 0"
   ]
  },
  {
   "cell_type": "code",
   "execution_count": 138,
   "metadata": {},
   "outputs": [],
   "source": [
    "#bobo.weight"
   ]
  },
  {
   "cell_type": "code",
   "execution_count": 154,
   "metadata": {},
   "outputs": [],
   "source": [
    "#bobo.pet('belly')"
   ]
  },
  {
   "cell_type": "code",
   "execution_count": 166,
   "metadata": {},
   "outputs": [],
   "source": [
    "#bobo.play('turkey')\n",
    "#bobo.play('box')\n",
    "#bobo.happiness"
   ]
  },
  {
   "cell_type": "code",
   "execution_count": 165,
   "metadata": {},
   "outputs": [
    {
     "name": "stdout",
     "output_type": "stream",
     "text": [
      "\n",
      " /\\_/\\\n",
      "( ^.^ )\n",
      " > ' <\n",
      " \n",
      "Happy guy\n"
     ]
    }
   ],
   "source": [
    "bobo.check_happiness()"
   ]
  },
  {
   "cell_type": "code",
   "execution_count": 145,
   "metadata": {},
   "outputs": [
    {
     "data": {
      "text/plain": [
       "0.8575325462227668"
      ]
     },
     "execution_count": 145,
     "metadata": {},
     "output_type": "execute_result"
    }
   ],
   "source": [
    "#random.random()"
   ]
  }
 ],
 "metadata": {
  "kernelspec": {
   "display_name": "Python 3",
   "language": "python",
   "name": "python3"
  },
  "language_info": {
   "codemirror_mode": {
    "name": "ipython",
    "version": 3
   },
   "file_extension": ".py",
   "mimetype": "text/x-python",
   "name": "python",
   "nbconvert_exporter": "python",
   "pygments_lexer": "ipython3",
   "version": "3.8.5"
  }
 },
 "nbformat": 4,
 "nbformat_minor": 4
}
